{
  "nbformat": 4,
  "nbformat_minor": 0,
  "metadata": {
    "accelerator": "GPU",
    "colab": {
      "name": "yolov3.ipynb",
      "provenance": [],
      "collapsed_sections": []
    },
    "kernelspec": {
      "display_name": "Python 3",
      "name": "python3"
    },
    "language_info": {
      "name": "python"
    }
  },
  "cells": [
    {
      "cell_type": "markdown",
      "metadata": {
        "id": "S6d1qS33sF02"
      },
      "source": [
        "# **HackOn With Amazon**"
      ]
    },
    {
      "cell_type": "code",
      "metadata": {
        "id": "kudcV52IpSYy"
      },
      "source": [
        "%cd ..\n",
        "from google.colab import drive\n",
        "drive.mount('/content/gdrive')"
      ],
      "execution_count": null,
      "outputs": []
    },
    {
      "cell_type": "code",
      "metadata": {
        "id": "WXPLsjU_pcmz"
      },
      "source": [
        "!ln -s /content/gdrive/My\\ Drive/ /mydrive"
      ],
      "execution_count": null,
      "outputs": []
    },
    {
      "cell_type": "code",
      "metadata": {
        "id": "_7mDIrdjple7"
      },
      "source": [
        "%cd /mydrive/yolov3"
      ],
      "execution_count": null,
      "outputs": []
    },
    {
      "cell_type": "markdown",
      "metadata": {
        "id": "zjGhSHgisjcA"
      },
      "source": [
        "**Cloning the Darknet Framework**"
      ]
    },
    {
      "cell_type": "code",
      "metadata": {
        "id": "b5QpQ7oEpueV"
      },
      "source": [
        "!git clone https://github.com/AlexeyAB/darknet  #Clone the Darknet git repository"
      ],
      "execution_count": null,
      "outputs": []
    },
    {
      "cell_type": "code",
      "metadata": {
        "id": "8MwPhqQ1pvv0"
      },
      "source": [
        "%cd darknet/\n",
        "!sed -i 's/OPENCV=0/OPENCV=1/' Makefile\n",
        "!sed -i 's/GPU=0/GPU=1/' Makefile\n",
        "!sed -i 's/CUDNN=0/CUDNN=1/' Makefile\n",
        "!sed -i 's/CUDNN_HALF=0/CUDNN_HALF=1/' Makefile\n",
        "!sed -i 's/LIBSO=0/LIBSO=1/' Makefile"
      ],
      "execution_count": null,
      "outputs": []
    },
    {
      "cell_type": "code",
      "metadata": {
        "id": "azGmMrXUp8aw"
      },
      "source": [
        "!make  #Run make command to build darknet"
      ],
      "execution_count": null,
      "outputs": []
    },
    {
      "cell_type": "code",
      "metadata": {
        "id": "1rQucaClqAe7"
      },
      "source": [
        "%cd data/\n",
        "!find -maxdepth 1 -type f -exec rm -rf {} \\;\n",
        "%cd ..\n",
        "%rm -rf cfg/\n",
        "%mkdir cfg"
      ],
      "execution_count": null,
      "outputs": []
    },
    {
      "cell_type": "code",
      "metadata": {
        "id": "ibQDpyyRqBo8"
      },
      "source": [
        "!unzip /mydrive/yolov3/obj.zip -d data/"
      ],
      "execution_count": null,
      "outputs": []
    },
    {
      "cell_type": "code",
      "metadata": {
        "id": "nOYjr5twqKHv"
      },
      "source": [
        "!cp /content/gdrive/MyDrive/yolov3/yolov3.cfg cfg\n",
        "\n",
        "!ls cfg/"
      ],
      "execution_count": null,
      "outputs": []
    },
    {
      "cell_type": "code",
      "metadata": {
        "id": "8x7WsjaMqU8o"
      },
      "source": [
        "!cp /content/gdrive/MyDrive/yolov3/obj.names data\n",
        "!cp /content/gdrive/MyDrive/yolov3/obj.data  data\n",
        "\n",
        "!ls data/"
      ],
      "execution_count": null,
      "outputs": []
    },
    {
      "cell_type": "code",
      "metadata": {
        "id": "FdqJ_U3-qedq"
      },
      "source": [
        "!cp /content/gdrive/MyDrive/yolov3/process.py ."
      ],
      "execution_count": null,
      "outputs": []
    },
    {
      "cell_type": "code",
      "metadata": {
        "id": "1hWPWqw7q5yf"
      },
      "source": [
        "!python process.py  #Run the process.py python script to create the train.txt & test.txt files"
      ],
      "execution_count": null,
      "outputs": []
    },
    {
      "cell_type": "code",
      "metadata": {
        "id": "mvwbvxdKrAAK"
      },
      "source": [
        "!ls data/"
      ],
      "execution_count": null,
      "outputs": []
    },
    {
      "cell_type": "code",
      "metadata": {
        "id": "jxU-0ZQRrKzw"
      },
      "source": [
        "!wget https://github.com/AlexeyAB/darknet/releases/download/darknet_yolo_v3_optimal/yolov3.conv.137  #Download the pre-trained YOLOv4 weights"
      ],
      "execution_count": null,
      "outputs": []
    },
    {
      "cell_type": "markdown",
      "metadata": {
        "id": "oDXSvEZNu_mt"
      },
      "source": [
        "### **Start Training our Model**"
      ]
    },
    {
      "cell_type": "code",
      "metadata": {
        "id": "wEJiFJAJsDKl"
      },
      "source": [
        "!./darknet detector train data/obj.data cfg/yolov3-custom.cfg yolov3.conv.137 -dont_show -map"
      ],
      "execution_count": null,
      "outputs": []
    },
    {
      "cell_type": "code",
      "metadata": {
        "id": "tzP6iS5nG2KC"
      },
      "source": [
        "!./darknet detector train data/obj.data cfg/yolov3-custom.cfg /mydrive/yolov3/training/yolov3-custom_last.weights -dont_show -map"
      ],
      "execution_count": null,
      "outputs": []
    },
    {
      "cell_type": "markdown",
      "metadata": {
        "id": "YxN-eAlBy91f"
      },
      "source": [
        "### **Check Performance**"
      ]
    },
    {
      "cell_type": "code",
      "metadata": {
        "id": "ydBblMUmkJ0g"
      },
      "source": [
        "!./darknet detector map data/obj.data cfg/yolov3.cfg /content/gdrive/MyDrive/yolov3/training/yolov3.weights -points 0"
      ],
      "execution_count": null,
      "outputs": []
    },
    {
      "cell_type": "code",
      "metadata": {
        "id": "24-Wo1xVakPT"
      },
      "source": [
        "%cd cfg\n",
        "!sed -i 's/batch=32/batch=1/' yolov3.cfg\n",
        "!sed -i 's/subdivisions=8/subdivisions=1/' yolov3.cfg\n",
        "%cd .."
      ],
      "execution_count": null,
      "outputs": []
    },
    {
      "cell_type": "markdown",
      "metadata": {
        "id": "fQ90IHrWzKT0"
      },
      "source": [
        "### **Test our Object Detector on Images**"
      ]
    },
    {
      "cell_type": "code",
      "metadata": {
        "id": "NuC0X4tnz4pT"
      },
      "source": [
        "def imShow(path):\n",
        "  import cv2\n",
        "  import matplotlib.pyplot as plt\n",
        "  %matplotlib inline\n",
        "\n",
        "  image = cv2.imread(path)\n",
        "  height, width = image.shape[:2]\n",
        "  resized_image = cv2.resize(image,(3*width, 3*height), interpolation = cv2.INTER_CUBIC)\n",
        "\n",
        "  fig = plt.gcf()\n",
        "  fig.set_size_inches(18, 10)\n",
        "  plt.axis(\"off\")\n",
        "  plt.imshow(cv2.cvtColor(resized_image, cv2.COLOR_BGR2RGB))\n",
        "  plt.show()"
      ],
      "execution_count": null,
      "outputs": []
    },
    {
      "cell_type": "code",
      "metadata": {
        "id": "clKBbP-ma0xv"
      },
      "source": [
        "!./darknet detector test /content/gdrive/MyDrive/yolov3/darknet/data/obj.data /content/gdrive/MyDrive/yolov3/yolov3.cfg /content/gdrive/MyDrive/yolov3/training/yolov3.weights /content/gdrive/MyDrive/yolov3/Test_Images/2.jpg -thresh 0.3 \n",
        "imShow('predictions.jpg')"
      ],
      "execution_count": null,
      "outputs": []
    },
    {
      "cell_type": "code",
      "metadata": {
        "id": "UISI3rl18Jmj"
      },
      "source": [
        "!./darknet detector test /content/gdrive/MyDrive/yolov3/darknet/data/obj.data /content/gdrive/MyDrive/yolov4/yolov3.cfg /content/gdrive/MyDrive/yolov3/training/yolov3.weights /content/gdrive/MyDrive/yolov3/Test_Images/1.jpg -thresh 0.3 \n",
        "imShow('predictions.jpg')"
      ],
      "execution_count": null,
      "outputs": []
    }
  ]
}